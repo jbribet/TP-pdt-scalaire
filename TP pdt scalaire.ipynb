{
 "cells": [
  {
   "cell_type": "markdown",
   "metadata": {},
   "source": [
    "Nom :Prénom :\n",
    "_________________________________________________"
   ]
  },
  {
   "cell_type": "markdown",
   "metadata": {},
   "source": [
    "## TP : produit scalaire "
   ]
  },
  {
   "cell_type": "markdown",
   "metadata": {},
   "source": [
    "___________________________________\n",
    "**Mode d'emploi du Notebook** :\n",
    "\n",
    "Le document que vous êtes en train de lire s'appelle un *_Notebook_*. Il est composé d'un enchaînement de zone qui s'encadrent lorsque vous cliquez dessus. Il y a deux types de zones :\n",
    " - des zones de texte comme celle-ci ;\n",
    " - des zones de codes qui se repère par un nombre entre crochet à gauche précédé de la mention **In** (pour Input) ou Entrée.\n",
    " \n",
    "Pour modifier une zone, il suffit de double-cliquer dessus. Pour la valider, il faut appuyer sur les touches _Shift + Enter_.\n",
    " \n",
    "Lorsqu'on valide une zone de code, cela a pour effet de l'executer et d'eventuellement afficher un résultat précéder par la mention **Out**.\n",
    "\n",
    "Lorsque vous avez fini votre travail, vous pouvez le sauver au format .html dans _File-Download As-HTML_. \n",
    "\n",
    "**Attention,** une fois le travail sauver au format HTML le fichier n'est plus interactif donc il faut soit faire ce TP en une fois soit recopier votre travail précédent dans une nouvelle session ouverte à partir du lien fourni.\n",
    "\n",
    "________________________________________"
   ]
  },
  {
   "cell_type": "markdown",
   "metadata": {},
   "source": [
    "Dans la zone de code ci-dessous, on a défini\n",
    "une fonction `est_perp(A,B,C,D)`  qui prend en argument 4 listes de deux nombres (correspondant aux coordonnées de 4 points A, B, C et D) et retourne 1 si $(AB)\\perp(CD)$ et 0 sinon. "
   ]
  },
  {
   "cell_type": "code",
   "execution_count": null,
   "metadata": {},
   "outputs": [],
   "source": [
    "def est_perp(A,B,C,D) :\n",
    "    u=[B[0]-A[0],B[1]-A[1]]\n",
    "    v=[D[0]-C[0],D[1]-C[1]]\n",
    "    pdt=u[0]*v[0]+u[1]*v[1]\n",
    "    if pdt == 0 :\n",
    "        return 1\n",
    "    return 0"
   ]
  },
  {
   "cell_type": "markdown",
   "metadata": {},
   "source": [
    "Tester la fonction avec les points $A(3~;~2)$, $B(4~;~5)$, $C(-1~;~-3)$ et $D(2~;~-4)$.\n",
    "\n",
    "_Remarque : on entre les coordonnées des points comme une liste de deux nombre donc entre crochets. Par exemple [3,2] pour le point $A$_  "
   ]
  },
  {
   "cell_type": "code",
   "execution_count": null,
   "metadata": {},
   "outputs": [],
   "source": []
  },
  {
   "cell_type": "markdown",
   "metadata": {},
   "source": [
    "Les droites $(AB)$ et $(CD)$ sont-elles perpendiculaires ?"
   ]
  },
  {
   "cell_type": "markdown",
   "metadata": {},
   "source": []
  },
  {
   "cell_type": "markdown",
   "metadata": {},
   "source": [
    "Ecris une fonction `est_aigu(A,B,C)` qui prend en argument les coordonnées de trois points $A$, $B$ et $C$ dans un repère orthonormé et qui retourne 1 si l'angle $\\widehat{ABC}$ est aigu et 0 si il est est droit et -1 s'il est obtu."
   ]
  },
  {
   "cell_type": "code",
   "execution_count": null,
   "metadata": {},
   "outputs": [],
   "source": []
  },
  {
   "cell_type": "markdown",
   "metadata": {},
   "source": [
    "Teste-là avec les points $A$, $B$, $C$ et $D$ précédents pour savoir si on peut former un angle obtu avec trois de ces quatre points."
   ]
  },
  {
   "cell_type": "code",
   "execution_count": null,
   "metadata": {},
   "outputs": [],
   "source": []
  },
  {
   "cell_type": "markdown",
   "metadata": {},
   "source": [
    "Indique ci-dessous s'il y a des points qui forment un angle obtu :"
   ]
  },
  {
   "cell_type": "markdown",
   "metadata": {},
   "source": []
  }
 ],
 "metadata": {
  "kernelspec": {
   "display_name": "Python 3",
   "language": "python",
   "name": "python3"
  },
  "language_info": {
   "codemirror_mode": {
    "name": "ipython",
    "version": 3
   },
   "file_extension": ".py",
   "mimetype": "text/x-python",
   "name": "python",
   "nbconvert_exporter": "python",
   "pygments_lexer": "ipython3",
   "version": "3.6.5"
  }
 },
 "nbformat": 4,
 "nbformat_minor": 2
}
